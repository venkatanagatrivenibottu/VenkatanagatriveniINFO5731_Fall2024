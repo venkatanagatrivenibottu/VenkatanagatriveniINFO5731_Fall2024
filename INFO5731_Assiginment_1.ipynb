{
  "cells": [
    {
      "cell_type": "markdown",
      "metadata": {
        "id": "view-in-github",
        "colab_type": "text"
      },
      "source": [
        "<a href=\"https://colab.research.google.com/github/venkatanagatrivenibottu/VenkatanagatriveniINFO5731_Fall2024/blob/main/INFO5731_Assiginment_1.ipynb\" target=\"_parent\"><img src=\"https://colab.research.google.com/assets/colab-badge.svg\" alt=\"Open In Colab\"/></a>"
      ]
    },
    {
      "cell_type": "markdown",
      "metadata": {
        "id": "DymRJbxDBCnf"
      },
      "source": [
        "# **INFO5731 Assiginment 1**\n",
        "\n",
        "This exercise covers a variety of fundamental concepts in Python and is designed to help students improve their coding skills and problem-solving abilities.\n",
        "\n",
        "**Expectations**:\n",
        "*   Students are expected to complete the exercise during lecture period to meet the active participation criteria of the course.\n",
        "*   Use the provided .*ipynb* document to write your code & respond to the questions. Avoid generating a new file.\n",
        "*   Write complete answers and run all the cells before submission.\n",
        "*   Make sure the submission is \"clean\"; *i.e.*, no unnecessary code cells.\n",
        "*   Once finished, allow shared rights from top right corner (*see Canvas for details*).\n",
        "\n",
        "**Total points**: 100\n",
        "\n",
        "**Deadline**: This Assiginment-1 is due by Sunday Midnight\n",
        "\n",
        "**Late submissions cannot be considered, and no requests will be answered. Manage your time accordingly.**\n"
      ]
    },
    {
      "cell_type": "markdown",
      "source": [
        "## Question 1\n",
        "Write a Python program that  prompts the user to input the length and width of a rectangle, and then calculates and displays the area of the rectangle."
      ],
      "metadata": {
        "id": "FBKvD6O_TY6e"
      }
    },
    {
      "cell_type": "code",
      "source": [
        "#user input\n",
        "length = float(input(\"Enter the length of the rectangle: \"))\n",
        "width = float(input(\"Enter the width of the rectangle: \"))\n",
        "\n",
        "# Calculating  area\n",
        "AreaOfRectangle = length * width\n",
        "\n",
        "# Display The result\n",
        "print(\"The area of the rectangle is:\", AreaOfRectangle)"
      ],
      "metadata": {
        "id": "cikVKDXdTbzE",
        "colab": {
          "base_uri": "https://localhost:8080/"
        },
        "outputId": "3d1acc48-6521-4f56-ce3f-ad5081800cb9"
      },
      "execution_count": 4,
      "outputs": [
        {
          "output_type": "stream",
          "name": "stdout",
          "text": [
            "Enter the length of the rectangle: 5\n",
            "Enter the width of the rectangle: 6\n",
            "The area of the rectangle is: 30.0\n"
          ]
        }
      ]
    },
    {
      "cell_type": "markdown",
      "source": [
        "## Question 2\n",
        "Create a Python program that interactively takes two numerical inputs from the user and swaps their values without utilizing an extra variable."
      ],
      "metadata": {
        "id": "E9RqrlwdTfvl"
      }
    },
    {
      "cell_type": "code",
      "source": [
        "# write your answer here\n",
        "number1 = float(input(\"Enter the first number: \"))\n",
        "number2 = float(input(\"Enter the second number: \"))\n",
        "\n",
        "print(\"\\nBefore swapping:\")\n",
        "print(\"First number =\", number1)\n",
        "print(\"Second number =\", number2)\n",
        "\n",
        "# Swapping numbers\n",
        "number1 = number1 + number2\n",
        "number2 = number1 - number2\n",
        "number1 = number1 - number2\n",
        "\n",
        "print(\"\\nAfter swapping:\")\n",
        "print(\"First number =\", number1)\n",
        "print(\"Second number =\", number2)\n"
      ],
      "metadata": {
        "id": "4XvRknixTh1g",
        "colab": {
          "base_uri": "https://localhost:8080/"
        },
        "outputId": "3e43326c-1d48-4ff3-b1cb-490217b38893"
      },
      "execution_count": 5,
      "outputs": [
        {
          "output_type": "stream",
          "name": "stdout",
          "text": [
            "Enter the first number: 2\n",
            "Enter the second number: 5\n",
            "\n",
            "Before swapping:\n",
            "First number = 2.0\n",
            "Second number = 5.0\n",
            "\n",
            "After swapping:\n",
            "First number = 5.0\n",
            "Second number = 2.0\n"
          ]
        }
      ]
    },
    {
      "cell_type": "markdown",
      "metadata": {
        "id": "03jb4GZsBkBS"
      },
      "source": [
        "## Question 3\n",
        "Write a Python script to determine and print the length of a user-input string."
      ]
    },
    {
      "cell_type": "code",
      "execution_count": 6,
      "metadata": {
        "id": "YaGLbSHHB8Ej",
        "colab": {
          "base_uri": "https://localhost:8080/"
        },
        "outputId": "8bc0ab4c-962f-4ec4-99fd-9e16b30bacf8"
      },
      "outputs": [
        {
          "output_type": "stream",
          "name": "stdout",
          "text": [
            "Enter a string: triveni\n",
            "The length of the string is: 7\n"
          ]
        }
      ],
      "source": [
        "# To take input from user\n",
        "user_string = input(\"Enter a string: \")\n",
        "\n",
        "# To Calculate length\n",
        "length = len(user_string)\n",
        "\n",
        "# Display the result\n",
        "print(\"The length of the string is:\", length)\n"
      ]
    },
    {
      "cell_type": "markdown",
      "metadata": {
        "id": "jJDe71iLB616"
      },
      "source": [
        "## Question 4\n",
        "Construct a Python program that counts and displays the occurrences of each character in a given string.\n",
        "\n",
        "Sample String: 'openai.ai',\n",
        "\n",
        "Expected Result: {'a': 2, 'i': 2, '.': 1, 'o': 1, 'p': 1, 'e': 1, 'n': 1}"
      ]
    },
    {
      "cell_type": "code",
      "execution_count": 7,
      "metadata": {
        "id": "MtKskTzbCLaU",
        "colab": {
          "base_uri": "https://localhost:8080/"
        },
        "outputId": "3c5f9187-a0e0-43ac-a014-61142288ad8f"
      },
      "outputs": [
        {
          "output_type": "stream",
          "name": "stdout",
          "text": [
            "Character occurrences: {'o': 1, 'p': 1, 'e': 1, 'n': 1, 'a': 2, 'i': 2, '.': 1}\n"
          ]
        }
      ],
      "source": [
        "# write your answer here\n",
        "# Sample string (you can replace with input)\n",
        "sample_string = \"openai.ai\"\n",
        "\n",
        "# Initialize empty dictionary\n",
        "char_count = {}\n",
        "\n",
        "# Loop through each character in the string\n",
        "for char in sample_string:\n",
        "    char_count[char] = char_count.get(char, 0) + 1\n",
        "\n",
        "# Display the result\n",
        "print(\"Character occurrences:\", char_count)\n"
      ]
    },
    {
      "cell_type": "markdown",
      "metadata": {
        "id": "55W9AMdXCSpV"
      },
      "source": [
        "## Question 5\n",
        "Design a Python code to calculate the sum of all elements in a user-provided list."
      ]
    },
    {
      "cell_type": "code",
      "execution_count": 12,
      "metadata": {
        "id": "I57NXsauCec2",
        "colab": {
          "base_uri": "https://localhost:8080/"
        },
        "outputId": "633ac9e4-7634-497a-e55c-9b4ba901f128"
      },
      "outputs": [
        {
          "output_type": "stream",
          "name": "stdout",
          "text": [
            "Enter numbers separated by spaces: 5 10 10\n",
            "The sum of all elements in the list is: 25\n"
          ]
        }
      ],
      "source": [
        "# Using sum() function\n",
        "numbers = input(\"Enter numbers separated by spaces: \")\n",
        "#num_list = [float(num) for num in numbers.split()]\n",
        "# Convert to list of numbers\n",
        "num_list = [int(num_list) for num_list in numbers.split()]\n",
        "total = sum(num_list)  # Built-in sum\n",
        "print(\"The sum of all elements in the list is:\", total)\n",
        "\n"
      ]
    },
    {
      "cell_type": "markdown",
      "metadata": {
        "id": "4ulBZ6yhCi9F"
      },
      "source": [
        "## Question 6\n",
        "Write a Python program that modifies a given string by replacing all occurrences of its first character with '$', excluding the first character itself.\n",
        "\n",
        "\n",
        "Sample String : 'restart‘\n",
        "Expected Result : 'resta\\$t'"
      ]
    },
    {
      "cell_type": "code",
      "execution_count": 15,
      "metadata": {
        "id": "Fj0XhwbBCw2o",
        "colab": {
          "base_uri": "https://localhost:8080/"
        },
        "outputId": "9d68ed42-9200-4d02-c674-2a60f9dd0ae0"
      },
      "outputs": [
        {
          "output_type": "stream",
          "name": "stdout",
          "text": [
            "Original String: pumpkin\n",
            "Modified String: pum$kin\n"
          ]
        }
      ],
      "source": [
        "# write your answer here\n",
        "# Program to replace all occurrences of the first character with '$' except the first one\n",
        "\n",
        "# Sample string\n",
        "sample_string = \"pumpkin\"\n",
        "\n",
        "# Extract the first character\n",
        "first_char = sample_string[0]\n",
        "\n",
        "# Replace all occurrences of first character (excluding the first one)\n",
        "modified_string = first_char + sample_string[1:].replace(first_char, \"$\")\n",
        "\n",
        "# Display result\n",
        "print(\"Original String:\", sample_string)\n",
        "print(\"Modified String:\", modified_string)\n"
      ]
    },
    {
      "cell_type": "markdown",
      "source": [
        "## Question 7\n",
        "Write a Python program using a while loop to compute the factorial of a user-supplied number."
      ],
      "metadata": {
        "id": "qVXA3q7ET5JI"
      }
    },
    {
      "cell_type": "code",
      "source": [
        "# write your answer here\n",
        "# Program to compute factorial using a while loop\n",
        "\n",
        "# Take input from user\n",
        "num = int(input(\"Enter a number: \"))\n",
        "\n",
        "# Initialize variables\n",
        "factorial = 1\n",
        "i = 1\n",
        "\n",
        "# While loop to calculate factorial\n",
        "while i <= num:\n",
        "    factorial *= i\n",
        "    i += 1\n",
        "\n",
        "# Display result\n",
        "print(\"The factorial of\", num, \"is:\", factorial)"
      ],
      "metadata": {
        "id": "Lbt7R6UkT7BA",
        "colab": {
          "base_uri": "https://localhost:8080/"
        },
        "outputId": "9e64ed86-6c80-421a-e382-4eed9e2072ea"
      },
      "execution_count": 16,
      "outputs": [
        {
          "output_type": "stream",
          "name": "stdout",
          "text": [
            "Enter a number: 5\n",
            "The factorial of 5 is: 120\n"
          ]
        }
      ]
    },
    {
      "cell_type": "markdown",
      "source": [
        "## Question 8\n",
        "Create a program that accepts a list of numbers as input and outputs a new list containing only the even numbers."
      ],
      "metadata": {
        "id": "6YfbzXMNT--R"
      }
    },
    {
      "cell_type": "code",
      "source": [
        "# write your answer here\n",
        "# Program to filter even numbers from a user-provided list\n",
        "\n",
        "# Get input from the user and convert it into a list of integers\n",
        "numbers = input(\"Enter numbers separated by spaces: \").split()\n",
        "numbers = [int(num) for num in numbers]\n",
        "\n",
        "# Create a new list containing only even numbers\n",
        "even_numbers = [num for num in numbers if num % 2 == 0]\n",
        "\n",
        "# Output the result\n",
        "print(\"Even numbers:\", even_numbers)"
      ],
      "metadata": {
        "id": "54q7wMQPUAKu",
        "colab": {
          "base_uri": "https://localhost:8080/"
        },
        "outputId": "abb3403e-9633-414e-9995-0b861eb0340e"
      },
      "execution_count": 17,
      "outputs": [
        {
          "output_type": "stream",
          "name": "stdout",
          "text": [
            "Enter numbers separated by spaces: 2 3 4 5 6 7\n",
            "Even numbers: [2, 4, 6]\n"
          ]
        }
      ]
    },
    {
      "cell_type": "markdown",
      "metadata": {
        "id": "_bIP7s1MCzue"
      },
      "source": [
        "## Question 9\n",
        "Design a Python function to check if a number is prime.\n"
      ]
    },
    {
      "cell_type": "code",
      "execution_count": null,
      "metadata": {
        "id": "w79QilHXD3Mg"
      },
      "outputs": [],
      "source": [
        "# write your answer here\n"
      ]
    },
    {
      "cell_type": "markdown",
      "metadata": {
        "id": "xCa2bK9aD4Q3"
      },
      "source": [
        "## Question 10\n",
        "Write a Python program to concatenate following dictionaries to create a new one.\n",
        "\n",
        "Sample Dictionary : dic1={1:10, 2:20}, dic2={3:30, 4:40}, dic3={5:50,6:60},\n",
        "\n",
        "Expected Result : {1: 10, 2: 20, 3: 30, 4: 40, 5: 50, 6: 60}\n"
      ]
    },
    {
      "cell_type": "code",
      "execution_count": null,
      "metadata": {
        "id": "_z4aLqAbEET1"
      },
      "outputs": [],
      "source": [
        "# write your answer here\n"
      ]
    },
    {
      "cell_type": "markdown",
      "source": [
        "## Question 11\n",
        "Design a Python function that takes a tuple of integers as input and returns the largest and smallest elements."
      ],
      "metadata": {
        "id": "bkyZ2xSZUOst"
      }
    },
    {
      "cell_type": "code",
      "source": [
        "# write your answer here"
      ],
      "metadata": {
        "id": "3FdLRBKOUQEd"
      },
      "execution_count": null,
      "outputs": []
    },
    {
      "cell_type": "markdown",
      "source": [
        "## Question 12\n",
        "Write a Python program that counts the frequency of each character in a given string and stores it in a dictionary."
      ],
      "metadata": {
        "id": "O0TVi3gKUTpp"
      }
    },
    {
      "cell_type": "code",
      "source": [
        "# write your answer here"
      ],
      "metadata": {
        "id": "lAtfSfZXUU-h"
      },
      "execution_count": null,
      "outputs": []
    },
    {
      "cell_type": "markdown",
      "metadata": {
        "id": "0v48Vqa7FrQh"
      },
      "source": [
        "## Question 13\n",
        "Implement a Python script to identify duplicate elements in a provided array of integers. Return -1 if there are no duplicates."
      ]
    },
    {
      "cell_type": "code",
      "execution_count": null,
      "metadata": {
        "id": "7WEmgq-DF2P1"
      },
      "outputs": [],
      "source": [
        "# write your answer here\n"
      ]
    },
    {
      "cell_type": "markdown",
      "metadata": {
        "id": "vD5PYLMuGga_"
      },
      "source": [
        "## Question 14\n",
        "Write a Python script to find the common elements between two lists."
      ]
    },
    {
      "cell_type": "code",
      "execution_count": null,
      "metadata": {
        "id": "t0D5kdJUGjjw"
      },
      "outputs": [],
      "source": [
        "# write your answer here\n"
      ]
    },
    {
      "cell_type": "markdown",
      "metadata": {
        "id": "uHkd-y5VhVWC"
      },
      "source": [
        "## Question 15\n",
        "Write a Python program to randomly divide the students in this class into maximum of eight groups for term projects, each group should have at least 4 students but no more than 6 students (including 6).\n",
        "\n",
        "Here is the students list:\n",
        "\n",
        "student_list_spring_2024=[rb0846,\n",
        "ac1964,\n",
        "hc0612,\n",
        "md0912,\n",
        "ad1198,\n",
        "md0894,\n",
        "md0825,\n",
        "vg0598,\n",
        "vg0433,\n",
        "mh1068,\n",
        "yj0173,\n",
        "pk0553,\n",
        "tk0411,\n",
        "srk0204,\n",
        "sk2922,\n",
        "sk2936,\n",
        "mk1302,\n",
        "mk1317,\n",
        "tk0412,\n",
        "vk0656,\n",
        "sm2985,\n",
        "mm2372,\n",
        "un0045,\n",
        "an0892,\n",
        "sn0913,\n",
        "gp0252,\n",
        "ap1484,\n",
        "mr1765,\n",
        "sr1385,\n",
        "sr1335,\n",
        "hs0665,\n",
        "ms2060,\n",
        "gt0217,\n",
        "nt0385,\n",
        "tv0186,\n",
        "sv1394,\n",
        "sv1752,\n",
        "sv1555,\n",
        "sy0594\n",
        "]\n"
      ]
    },
    {
      "cell_type": "code",
      "execution_count": null,
      "metadata": {
        "id": "3iGbmcOBhTwy"
      },
      "outputs": [],
      "source": [
        "# write your answer here\n"
      ]
    },
    {
      "cell_type": "markdown",
      "metadata": {
        "id": "fmZ9vX20Qs3d"
      },
      "source": [
        "## Question 16\n",
        "Create a program that takes a positive integer 'n' as input and prints the count of even numbers from 1 to 'n'. Optimize the loop using the continue statement."
      ]
    },
    {
      "cell_type": "code",
      "execution_count": null,
      "metadata": {
        "id": "W8Jw6sWMQs3d"
      },
      "outputs": [],
      "source": [
        "# write your answer here\n"
      ]
    },
    {
      "cell_type": "markdown",
      "metadata": {
        "id": "hvq4APMhQs3d"
      },
      "source": [
        "## Question 17\n",
        "Develop a Python function called 'count_vowels' that takes a string as input and returns the count of vowels (both lowercase and uppercase) present in the string, ignoring spaces and non-alphabetic characters."
      ]
    },
    {
      "cell_type": "code",
      "execution_count": null,
      "metadata": {
        "id": "ZnoxhSglQs3d"
      },
      "outputs": [],
      "source": [
        "# write your answer here\n"
      ]
    },
    {
      "cell_type": "markdown",
      "source": [
        "## Question 18\n",
        "Create a custom exception named ValueTooSmallError in Python. Write a program that takes user input for an age, and if the entered age is less than 18, raise the ValueTooSmallError with an appropriate error message."
      ],
      "metadata": {
        "id": "55FWoSJPVVM6"
      }
    },
    {
      "cell_type": "code",
      "source": [
        "# write your answer here\n"
      ],
      "metadata": {
        "id": "hwtr1wZmVX5A"
      },
      "execution_count": null,
      "outputs": []
    },
    {
      "cell_type": "markdown",
      "source": [
        "## Question 19\n",
        "Develop a script that reverses a given string without using built-in reverse functions."
      ],
      "metadata": {
        "id": "Q9ecagcaVazW"
      }
    },
    {
      "cell_type": "code",
      "source": [
        "# write your answer here\n"
      ],
      "metadata": {
        "id": "gycgckoAVZjR"
      },
      "execution_count": null,
      "outputs": []
    },
    {
      "cell_type": "markdown",
      "source": [
        "## Question 20\n",
        "Implement a Python script to generate a random password of a specified length."
      ],
      "metadata": {
        "id": "ZFG6RibifMLu"
      }
    },
    {
      "cell_type": "code",
      "source": [
        "# write your answer here"
      ],
      "metadata": {
        "id": "BFVrkEi9fNiD"
      },
      "execution_count": null,
      "outputs": []
    },
    {
      "cell_type": "markdown",
      "source": [
        "# Try these questions"
      ],
      "metadata": {
        "id": "6SmvS7nSfbj8"
      }
    },
    {
      "cell_type": "markdown",
      "source": [
        "(21) Define a base class called 'Vehicle' with attributes make and model. Create a derived class Car that inherits from Vehicle and has an additional attribute 'num_doors'. Demonstrate an example of creating an instance of the 'Car' class and accessing its attributes."
      ],
      "metadata": {
        "id": "cboAr5pEWUf5"
      }
    },
    {
      "cell_type": "code",
      "source": [
        "# write your answer here\n"
      ],
      "metadata": {
        "id": "phs9gciMWWAW"
      },
      "execution_count": null,
      "outputs": []
    },
    {
      "cell_type": "markdown",
      "source": [
        "(22) Create a class called 'Shape' with a method calculate_area(). Implement two derived classes 'Circle' and 'Rectangle' that inherit from Shape and override the calculate_area() method. Demonstrate polymorphism by creating instances of both derived classes and calling the calculate_area() method."
      ],
      "metadata": {
        "id": "J8HHefNtePwd"
      }
    },
    {
      "cell_type": "code",
      "source": [
        "# write your answer here"
      ],
      "metadata": {
        "id": "btnMmUZDeRhS"
      },
      "execution_count": null,
      "outputs": []
    },
    {
      "cell_type": "markdown",
      "source": [
        "(23) Write a Python program that prompts the user to enter two numbers and perform a division operation. Handle exceptions for both zero division and invalid input (non-numeric input). Display appropriate error messages for each type of exception and ensure the program does not crash due to these errors."
      ],
      "metadata": {
        "id": "z0oqEAlTeMUS"
      }
    },
    {
      "cell_type": "code",
      "source": [
        "# write your answer here"
      ],
      "metadata": {
        "id": "yjdc1zM1eMAs"
      },
      "execution_count": null,
      "outputs": []
    },
    {
      "cell_type": "markdown",
      "source": [
        "# Mandatory Question"
      ],
      "metadata": {
        "id": "sZOhks1dXWEe"
      }
    },
    {
      "cell_type": "markdown",
      "source": [
        "**Important:**\n",
        "Reflecting on the first three lectures and the exercises you've completed, please provide feedback on your learning experience. Share your thoughts on whether the material covered was clear, the exercises were helpful, and if you feel more confident in applying Python programming concepts. Additionally, mention any specific areas where you would like more clarification or topics you would like to explore further in future lectures. Your feedback is valuable in shaping the course for an effective learning journey."
      ],
      "metadata": {
        "id": "eqmHVEwaWhbV"
      }
    },
    {
      "cell_type": "code",
      "source": [
        "'''\n",
        "Write your response here.\n",
        "'''"
      ],
      "metadata": {
        "id": "akAVJn9YBTQT"
      },
      "execution_count": null,
      "outputs": []
    }
  ],
  "metadata": {
    "colab": {
      "provenance": [],
      "collapsed_sections": [
        "FBKvD6O_TY6e",
        "E9RqrlwdTfvl",
        "03jb4GZsBkBS",
        "jJDe71iLB616",
        "55W9AMdXCSpV",
        "4ulBZ6yhCi9F",
        "6SmvS7nSfbj8",
        "sZOhks1dXWEe"
      ],
      "include_colab_link": true
    },
    "kernelspec": {
      "display_name": "Python 3 (ipykernel)",
      "language": "python",
      "name": "python3"
    },
    "language_info": {
      "codemirror_mode": {
        "name": "ipython",
        "version": 3
      },
      "file_extension": ".py",
      "mimetype": "text/x-python",
      "name": "python",
      "nbconvert_exporter": "python",
      "pygments_lexer": "ipython3",
      "version": "3.9.12"
    }
  },
  "nbformat": 4,
  "nbformat_minor": 0
}