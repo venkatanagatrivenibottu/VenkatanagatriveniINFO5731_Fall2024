{
  "cells": [
    {
      "cell_type": "markdown",
      "metadata": {
        "id": "view-in-github",
        "colab_type": "text"
      },
      "source": [
        "<a href=\"https://colab.research.google.com/github/venkatanagatrivenibottu/VenkatanagatriveniINFO5731_Fall2024/blob/main/Bottu_VenkataNaga_Assiginment_1.ipynb\" target=\"_parent\"><img src=\"https://colab.research.google.com/assets/colab-badge.svg\" alt=\"Open In Colab\"/></a>"
      ]
    },
    {
      "cell_type": "markdown",
      "metadata": {
        "id": "DymRJbxDBCnf"
      },
      "source": [
        "# **INFO5731 Assiginment 1**\n",
        "\n",
        "This exercise covers a variety of fundamental concepts in Python and is designed to help students improve their coding skills and problem-solving abilities.\n",
        "\n",
        "**Expectations**:\n",
        "*   Students are expected to complete the exercise during lecture period to meet the active participation criteria of the course.\n",
        "*   Use the provided .*ipynb* document to write your code & respond to the questions. Avoid generating a new file.\n",
        "*   Write complete answers and run all the cells before submission.\n",
        "*   Make sure the submission is \"clean\"; *i.e.*, no unnecessary code cells.\n",
        "*   Once finished, allow shared rights from top right corner (*see Canvas for details*).\n",
        "\n",
        "**Total points**: 100\n",
        "\n",
        "**Deadline**: This Assiginment-1 is due by Sunday Midnight\n",
        "\n",
        "**Late submissions cannot be considered, and no requests will be answered. Manage your time accordingly.**\n"
      ]
    },
    {
      "cell_type": "markdown",
      "source": [
        "## Question 1\n",
        "Write a Python program that  prompts the user to input the length and width of a rectangle, and then calculates and displays the area of the rectangle."
      ],
      "metadata": {
        "id": "FBKvD6O_TY6e"
      }
    },
    {
      "cell_type": "code",
      "source": [
        "#user input\n",
        "length = float(input(\"Enter the length of the rectangle: \"))\n",
        "width = float(input(\"Enter the width of the rectangle: \"))\n",
        "\n",
        "# Calculating  area\n",
        "AreaOfRectangle = length * width\n",
        "\n",
        "# Display The result\n",
        "print(\"The area of the rectangle is:\", AreaOfRectangle)"
      ],
      "metadata": {
        "id": "cikVKDXdTbzE",
        "colab": {
          "base_uri": "https://localhost:8080/"
        },
        "outputId": "3d1acc48-6521-4f56-ce3f-ad5081800cb9"
      },
      "execution_count": null,
      "outputs": [
        {
          "output_type": "stream",
          "name": "stdout",
          "text": [
            "Enter the length of the rectangle: 5\n",
            "Enter the width of the rectangle: 6\n",
            "The area of the rectangle is: 30.0\n"
          ]
        }
      ]
    },
    {
      "cell_type": "markdown",
      "source": [
        "## Question 2\n",
        "Create a Python program that interactively takes two numerical inputs from the user and swaps their values without utilizing an extra variable."
      ],
      "metadata": {
        "id": "E9RqrlwdTfvl"
      }
    },
    {
      "cell_type": "code",
      "source": [
        "# write your answer here\n",
        "number1 = float(input(\"Enter the first number: \"))\n",
        "number2 = float(input(\"Enter the second number: \"))\n",
        "\n",
        "print(\"\\nBefore swapping:\")\n",
        "print(\"First number =\", number1)\n",
        "print(\"Second number =\", number2)\n",
        "\n",
        "# Swapping numbers\n",
        "number1 = number1 + number2\n",
        "number2 = number1 - number2\n",
        "number1 = number1 - number2\n",
        "\n",
        "print(\"\\nAfter swapping:\")\n",
        "print(\"First number =\", number1)\n",
        "print(\"Second number =\", number2)\n"
      ],
      "metadata": {
        "id": "4XvRknixTh1g",
        "colab": {
          "base_uri": "https://localhost:8080/"
        },
        "outputId": "3e43326c-1d48-4ff3-b1cb-490217b38893"
      },
      "execution_count": null,
      "outputs": [
        {
          "output_type": "stream",
          "name": "stdout",
          "text": [
            "Enter the first number: 2\n",
            "Enter the second number: 5\n",
            "\n",
            "Before swapping:\n",
            "First number = 2.0\n",
            "Second number = 5.0\n",
            "\n",
            "After swapping:\n",
            "First number = 5.0\n",
            "Second number = 2.0\n"
          ]
        }
      ]
    },
    {
      "cell_type": "markdown",
      "metadata": {
        "id": "03jb4GZsBkBS"
      },
      "source": [
        "## Question 3\n",
        "Write a Python script to determine and print the length of a user-input string."
      ]
    },
    {
      "cell_type": "code",
      "execution_count": null,
      "metadata": {
        "id": "YaGLbSHHB8Ej",
        "colab": {
          "base_uri": "https://localhost:8080/"
        },
        "outputId": "8bc0ab4c-962f-4ec4-99fd-9e16b30bacf8"
      },
      "outputs": [
        {
          "output_type": "stream",
          "name": "stdout",
          "text": [
            "Enter a string: triveni\n",
            "The length of the string is: 7\n"
          ]
        }
      ],
      "source": [
        "# To take input from user\n",
        "user_string = input(\"Enter a string: \")\n",
        "\n",
        "# To Calculate length\n",
        "length = len(user_string)\n",
        "\n",
        "# Display the result\n",
        "print(\"The length of the string is:\", length)\n"
      ]
    },
    {
      "cell_type": "markdown",
      "metadata": {
        "id": "jJDe71iLB616"
      },
      "source": [
        "## Question 4\n",
        "Construct a Python program that counts and displays the occurrences of each character in a given string.\n",
        "\n",
        "Sample String: 'openai.ai',\n",
        "\n",
        "Expected Result: {'a': 2, 'i': 2, '.': 1, 'o': 1, 'p': 1, 'e': 1, 'n': 1}"
      ]
    },
    {
      "cell_type": "code",
      "execution_count": null,
      "metadata": {
        "id": "MtKskTzbCLaU",
        "colab": {
          "base_uri": "https://localhost:8080/"
        },
        "outputId": "3ec07c12-e72c-437e-c7a7-301b7feeebda"
      },
      "outputs": [
        {
          "output_type": "stream",
          "name": "stdout",
          "text": [
            "Enter a string: triveni\n",
            "Character occurrences: {'t': 1, 'r': 1, 'i': 2, 'v': 1, 'e': 1, 'n': 1}\n"
          ]
        }
      ],
      "source": [
        "# input the string\n",
        "sample_string = input(\"Enter a string: \")\n",
        "\n",
        "# Initialize empty dictionary\n",
        "char_count = {}\n",
        "\n",
        "# Loop through each character in the string\n",
        "for char in sample_string:\n",
        "    char_count[char] = char_count.get(char, 0) + 1\n",
        "\n",
        "# Display the result\n",
        "print(\"Character occurrences:\", char_count)\n"
      ]
    },
    {
      "cell_type": "markdown",
      "metadata": {
        "id": "55W9AMdXCSpV"
      },
      "source": [
        "## Question 5\n",
        "Design a Python code to calculate the sum of all elements in a user-provided list."
      ]
    },
    {
      "cell_type": "code",
      "execution_count": null,
      "metadata": {
        "id": "I57NXsauCec2",
        "colab": {
          "base_uri": "https://localhost:8080/"
        },
        "outputId": "633ac9e4-7634-497a-e55c-9b4ba901f128"
      },
      "outputs": [
        {
          "output_type": "stream",
          "name": "stdout",
          "text": [
            "Enter numbers separated by spaces: 5 10 10\n",
            "The sum of all elements in the list is: 25\n"
          ]
        }
      ],
      "source": [
        "# Using sum() function\n",
        "numbers = input(\"Enter numbers separated by spaces: \")\n",
        "#num_list = [float(num) for num in numbers.split()]\n",
        "# Convert to list of numbers\n",
        "num_list = [int(num_list) for num_list in numbers.split()]\n",
        "total = sum(num_list)  # Built-in sum\n",
        "print(\"The sum of all elements in the list is:\", total)\n",
        "\n"
      ]
    },
    {
      "cell_type": "markdown",
      "metadata": {
        "id": "4ulBZ6yhCi9F"
      },
      "source": [
        "## Question 6\n",
        "Write a Python program that modifies a given string by replacing all occurrences of its first character with '$', excluding the first character itself.\n",
        "\n",
        "\n",
        "Sample String : 'restart‘\n",
        "Expected Result : 'resta\\$t'"
      ]
    },
    {
      "cell_type": "code",
      "execution_count": null,
      "metadata": {
        "id": "Fj0XhwbBCw2o",
        "colab": {
          "base_uri": "https://localhost:8080/"
        },
        "outputId": "78d266c6-992b-457b-f893-30967b4aed23"
      },
      "outputs": [
        {
          "output_type": "stream",
          "name": "stdout",
          "text": [
            "Enter a string: pumpkin\n",
            "Original String: pumpkin\n",
            "Modified String: pum$kin\n"
          ]
        }
      ],
      "source": [
        "# Sample string\n",
        "sample_string = input(\"Enter a string: \")\n",
        "\n",
        "# Extract the first character\n",
        "first_char = sample_string[0]\n",
        "\n",
        "# Replace all occurrences of first character (excluding the first one)\n",
        "modified_string = first_char + sample_string[1:].replace(first_char, \"$\")\n",
        "\n",
        "# Display result\n",
        "print(\"Original String:\", sample_string)\n",
        "print(\"Modified String:\", modified_string)\n"
      ]
    },
    {
      "cell_type": "markdown",
      "source": [
        "## Question 7\n",
        "Write a Python program using a while loop to compute the factorial of a user-supplied number."
      ],
      "metadata": {
        "id": "qVXA3q7ET5JI"
      }
    },
    {
      "cell_type": "code",
      "source": [
        "# input number\n",
        "num = int(input(\"Enter a number: \"))\n",
        "\n",
        "# Initialize variables\n",
        "factorial = 1\n",
        "i = 1\n",
        "\n",
        "# While loop to calculate factorial\n",
        "while i <= num:\n",
        "    factorial *= i\n",
        "    i += 1\n",
        "\n",
        "# Display result\n",
        "print(\"The factorial of\", num, \"is:\", factorial)"
      ],
      "metadata": {
        "id": "Lbt7R6UkT7BA",
        "colab": {
          "base_uri": "https://localhost:8080/"
        },
        "outputId": "87bcc118-b3a4-4ac8-a760-4b7e930f2c93"
      },
      "execution_count": null,
      "outputs": [
        {
          "output_type": "stream",
          "name": "stdout",
          "text": [
            "Enter a number: 6\n",
            "The factorial of 6 is: 720\n"
          ]
        }
      ]
    },
    {
      "cell_type": "markdown",
      "source": [
        "## Question 8\n",
        "Create a program that accepts a list of numbers as input and outputs a new list containing only the even numbers."
      ],
      "metadata": {
        "id": "6YfbzXMNT--R"
      }
    },
    {
      "cell_type": "code",
      "source": [
        "# input from the user\n",
        "numbers = input(\"Enter numbers separated by spaces: \").split()\n",
        "numbers = [int(num) for num in numbers]\n",
        "\n",
        "# Create a new list containing only even numbers\n",
        "even_numbers = [num for num in numbers if num % 2 == 0]\n",
        "\n",
        "# Output the result\n",
        "print(\"Even numbers:\", even_numbers)"
      ],
      "metadata": {
        "id": "54q7wMQPUAKu",
        "colab": {
          "base_uri": "https://localhost:8080/"
        },
        "outputId": "abb3403e-9633-414e-9995-0b861eb0340e"
      },
      "execution_count": null,
      "outputs": [
        {
          "output_type": "stream",
          "name": "stdout",
          "text": [
            "Enter numbers separated by spaces: 2 3 4 5 6 7\n",
            "Even numbers: [2, 4, 6]\n"
          ]
        }
      ]
    },
    {
      "cell_type": "markdown",
      "metadata": {
        "id": "_bIP7s1MCzue"
      },
      "source": [
        "## Question 9\n",
        "Design a Python function to check if a number is prime.\n"
      ]
    },
    {
      "cell_type": "code",
      "execution_count": null,
      "metadata": {
        "id": "w79QilHXD3Mg",
        "colab": {
          "base_uri": "https://localhost:8080/"
        },
        "outputId": "baceaff0-d7e0-46c9-fb50-691ef9843a9d"
      },
      "outputs": [
        {
          "output_type": "stream",
          "name": "stdout",
          "text": [
            "Enter a number: 9\n",
            "9 is not a prime number.\n"
          ]
        }
      ],
      "source": [
        "# prime number check function\n",
        "def is_prime(n):\n",
        "    \"\"\"\n",
        "    Check if a number is prime.\n",
        "\n",
        "    Parameters:\n",
        "    n (int): Number to check\n",
        "\n",
        "    Returns:\n",
        "    bool: True if n is prime, False otherwise\n",
        "    \"\"\"\n",
        "    if n <= 1:\n",
        "        # 0 and 1 are not prime\n",
        "        return False\n",
        "    if n == 2:\n",
        "        # 2 is prime\n",
        "        return True\n",
        "    if n % 2 == 0:\n",
        "        # Even numbers greater than 2 are not prime\n",
        "        return False\n",
        "\n",
        "    # Check for factors from 3 up to the square root of n\n",
        "    for i in range(3, int(n ** 0.5) + 1, 2):\n",
        "        if n % i == 0:\n",
        "            return False\n",
        "    return True\n",
        "\n",
        "# Example usage:\n",
        "num = int(input(\"Enter a number: \"))\n",
        "if is_prime(num):\n",
        "    print(f\"{num} is a prime number.\")\n",
        "else:\n",
        "    print(f\"{num} is not a prime number.\")\n"
      ]
    },
    {
      "cell_type": "markdown",
      "metadata": {
        "id": "xCa2bK9aD4Q3"
      },
      "source": [
        "## Question 10\n",
        "Write a Python program to concatenate following dictionaries to create a new one.\n",
        "\n",
        "Sample Dictionary : dic1={1:10, 2:20}, dic2={3:30, 4:40}, dic3={5:50,6:60},\n",
        "\n",
        "Expected Result : {1: 10, 2: 20, 3: 30, 4: 40, 5: 50, 6: 60}\n"
      ]
    },
    {
      "cell_type": "code",
      "execution_count": null,
      "metadata": {
        "id": "_z4aLqAbEET1",
        "colab": {
          "base_uri": "https://localhost:8080/"
        },
        "outputId": "18f88566-d60e-4205-9a6c-abad18a8a856"
      },
      "outputs": [
        {
          "output_type": "stream",
          "name": "stdout",
          "text": [
            "Concatenated dictionary: {1: 10, 2: 20, 3: 30, 4: 40, 5: 50, 6: 60}\n"
          ]
        }
      ],
      "source": [
        "# Sample dictionaries\n",
        "dic1 = {1: 10, 2: 20}\n",
        "dic2 = {3: 30, 4: 40}\n",
        "dic3 = {5: 50, 6: 60}\n",
        "\n",
        "new_dict = {}\n",
        "for d in (dic1, dic2, dic3):\n",
        "    new_dict.update(d)\n",
        "\n",
        "print(\"Concatenated dictionary:\", new_dict)\n"
      ]
    },
    {
      "cell_type": "markdown",
      "source": [
        "## Question 11\n",
        "Design a Python function that takes a tuple of integers as input and returns the largest and smallest elements."
      ],
      "metadata": {
        "id": "bkyZ2xSZUOst"
      }
    },
    {
      "cell_type": "code",
      "source": [
        "# function\n",
        "def min_max_tuple(numbers):\n",
        "    \"\"\"\n",
        "    Returns the smallest and largest elements in a tuple of integers.\n",
        "\n",
        "    Parameters:\n",
        "    numbers (tuple): Tuple of integers\n",
        "\n",
        "    Returns:\n",
        "    tuple: (smallest, largest)\n",
        "    \"\"\"\n",
        "    if not numbers:\n",
        "        # To return None if the tuple is empty\n",
        "        return None, None\n",
        "\n",
        "    smallest = min(numbers)\n",
        "    largest = max(numbers)\n",
        "    return smallest, largest\n",
        "\n",
        "# input\n",
        "nums = input(\"Enter numbers separated by spaces: \").split()\n",
        "smallest, largest = min_max_tuple(nums)\n",
        "print(f\"Smallest element: {smallest}\")\n",
        "print(f\"Largest element: {largest}\")"
      ],
      "metadata": {
        "id": "3FdLRBKOUQEd",
        "colab": {
          "base_uri": "https://localhost:8080/"
        },
        "outputId": "c23316c8-7617-4c38-a7cc-48bcf5fb7f43"
      },
      "execution_count": null,
      "outputs": [
        {
          "output_type": "stream",
          "name": "stdout",
          "text": [
            "Enter numbers separated by spaces: 3 4 5 6\n",
            "Smallest element: 3\n",
            "Largest element: 6\n"
          ]
        }
      ]
    },
    {
      "cell_type": "markdown",
      "source": [
        "## Question 12\n",
        "Write a Python program that counts the frequency of each character in a given string and stores it in a dictionary."
      ],
      "metadata": {
        "id": "O0TVi3gKUTpp"
      }
    },
    {
      "cell_type": "code",
      "source": [
        "# input string from the user\n",
        "input_string = input(\"Enter a string: \")\n",
        "\n",
        "#an empty dictionary to store character frequencies\n",
        "char_frequency = {}\n",
        "\n",
        "# Count frequency of each character\n",
        "for char in input_string:\n",
        "    if char in char_frequency:\n",
        "        char_frequency[char] += 1\n",
        "    else:\n",
        "        char_frequency[char] = 1\n",
        "\n",
        "# Output the result\n",
        "print(\"Character frequencies:\", char_frequency)"
      ],
      "metadata": {
        "id": "lAtfSfZXUU-h",
        "colab": {
          "base_uri": "https://localhost:8080/"
        },
        "outputId": "0fc839fe-e452-43b0-9e81-2836dd60d32b"
      },
      "execution_count": null,
      "outputs": [
        {
          "output_type": "stream",
          "name": "stdout",
          "text": [
            "Enter a string: triveni\n",
            "Character frequencies: {'t': 1, 'r': 1, 'i': 2, 'v': 1, 'e': 1, 'n': 1}\n"
          ]
        }
      ]
    },
    {
      "cell_type": "markdown",
      "metadata": {
        "id": "0v48Vqa7FrQh"
      },
      "source": [
        "## Question 13\n",
        "Implement a Python script to identify duplicate elements in a provided array of integers. Return -1 if there are no duplicates."
      ]
    },
    {
      "cell_type": "code",
      "execution_count": null,
      "metadata": {
        "id": "7WEmgq-DF2P1",
        "colab": {
          "base_uri": "https://localhost:8080/"
        },
        "outputId": "a5aba0c9-f5cf-4fc6-e44d-9e7480116c62"
      },
      "outputs": [
        {
          "output_type": "stream",
          "name": "stdout",
          "text": [
            "Enter numbers separated by spaces: 2 2 3 4 5 2 3 4 \n",
            "Duplicate elements: ['2', '3', '4']\n"
          ]
        }
      ],
      "source": [
        "# function\n",
        "def find_duplicates(arr):\n",
        "    \"\"\"\n",
        "    Identify duplicate elements in a list of integers.\n",
        "\n",
        "    Parameters:\n",
        "    arr (list): List of integers\n",
        "\n",
        "    Returns:\n",
        "    list or int: List of duplicates or -1 if no duplicates\n",
        "    \"\"\"\n",
        "    duplicates = []\n",
        "    seen = set()\n",
        "\n",
        "    for num in arr:\n",
        "        if num in seen:\n",
        "            if num not in duplicates:\n",
        "                duplicates.append(num)\n",
        "        else:\n",
        "            seen.add(num)\n",
        "\n",
        "    if duplicates:\n",
        "        return duplicates\n",
        "    else:\n",
        "        return -1\n",
        "\n",
        "# Example usage:\n",
        "numbers = input(\"Enter numbers separated by spaces: \").split()\n",
        "result = find_duplicates(numbers)\n",
        "print(\"Duplicate elements:\", result)\n"
      ]
    },
    {
      "cell_type": "markdown",
      "metadata": {
        "id": "vD5PYLMuGga_"
      },
      "source": [
        "## Question 14\n",
        "Write a Python script to find the common elements between two lists."
      ]
    },
    {
      "cell_type": "code",
      "execution_count": null,
      "metadata": {
        "id": "t0D5kdJUGjjw",
        "colab": {
          "base_uri": "https://localhost:8080/"
        },
        "outputId": "7ba0e50d-b292-4c22-ed5b-bf95be46b09d"
      },
      "outputs": [
        {
          "output_type": "stream",
          "name": "stdout",
          "text": [
            "Common elements: [4, 5]\n"
          ]
        }
      ],
      "source": [
        "# Sample input lists\n",
        "list1 = [1, 2, 3, 4, 5]\n",
        "list2 = [4, 5, 6, 7, 8]\n",
        "\n",
        "#Using set intersection\n",
        "common_elements = list(set(list1) & set(list2))\n",
        "print(\"Common elements:\", common_elements)\n"
      ]
    },
    {
      "cell_type": "markdown",
      "metadata": {
        "id": "uHkd-y5VhVWC"
      },
      "source": [
        "## Question 15\n",
        "Write a Python program to randomly divide the students in this class into maximum of eight groups for term projects, each group should have at least 4 students but no more than 6 students (including 6).\n",
        "\n",
        "Here is the students list:\n",
        "\n",
        "student_list_spring_2024=[rb0846,\n",
        "ac1964,\n",
        "hc0612,\n",
        "md0912,\n",
        "ad1198,\n",
        "md0894,\n",
        "md0825,\n",
        "vg0598,\n",
        "vg0433,\n",
        "mh1068,\n",
        "yj0173,\n",
        "pk0553,\n",
        "tk0411,\n",
        "srk0204,\n",
        "sk2922,\n",
        "sk2936,\n",
        "mk1302,\n",
        "mk1317,\n",
        "tk0412,\n",
        "vk0656,\n",
        "sm2985,\n",
        "mm2372,\n",
        "un0045,\n",
        "an0892,\n",
        "sn0913,\n",
        "gp0252,\n",
        "ap1484,\n",
        "mr1765,\n",
        "sr1385,\n",
        "sr1335,\n",
        "hs0665,\n",
        "ms2060,\n",
        "gt0217,\n",
        "nt0385,\n",
        "tv0186,\n",
        "sv1394,\n",
        "sv1752,\n",
        "sv1555,\n",
        "sy0594\n",
        "]\n"
      ]
    },
    {
      "cell_type": "code",
      "execution_count": null,
      "metadata": {
        "id": "3iGbmcOBhTwy",
        "colab": {
          "base_uri": "https://localhost:8080/"
        },
        "outputId": "4f611574-a752-4a8a-b05c-f0235f74fab7"
      },
      "outputs": [
        {
          "output_type": "stream",
          "name": "stdout",
          "text": [
            "Group 1 (6 students): ['un0045', 'ms2060', 'sk2922', 'sy0594', 'vk0656', 'an0892']\n",
            "Group 2 (6 students): ['tk0411', 'sk2936', 'hs0665', 'ad1198', 'pk0553', 'md0825']\n",
            "Group 3 (6 students): ['yj0173', 'sv1394', 'hc0612', 'sm2985', 'ac1964', 'sv1752']\n",
            "Group 4 (6 students): ['mr1765', 'gt0217', 'md0894', 'mk1317', 'tk0412', 'mk1302']\n",
            "Group 5 (6 students): ['gp0252', 'vg0433', 'rb0846', 'mm2372', 'sr1335', 'mh1068']\n",
            "Group 6 (4 students): ['srk0204', 'ap1484', 'sr1385', 'sn0913']\n",
            "Group 7 (5 students): ['sv1555', 'nt0385', 'tv0186', 'vg0598', 'md0912']\n"
          ]
        }
      ],
      "source": [
        "import random\n",
        "\n",
        "# List of students\n",
        "student_list_spring_2024 = [\n",
        "    \"rb0846\", \"ac1964\", \"hc0612\", \"md0912\", \"ad1198\", \"md0894\", \"md0825\", \"vg0598\",\n",
        "    \"vg0433\", \"mh1068\", \"yj0173\", \"pk0553\", \"tk0411\", \"srk0204\", \"sk2922\", \"sk2936\",\n",
        "    \"mk1302\", \"mk1317\", \"tk0412\", \"vk0656\", \"sm2985\", \"mm2372\", \"un0045\", \"an0892\",\n",
        "    \"sn0913\", \"gp0252\", \"ap1484\", \"mr1765\", \"sr1385\", \"sr1335\", \"hs0665\", \"ms2060\",\n",
        "    \"gt0217\", \"nt0385\", \"tv0186\", \"sv1394\", \"sv1752\", \"sv1555\", \"sy0594\"\n",
        "]\n",
        "\n",
        "# Shuffling the students randomly\n",
        "random.shuffle(student_list_spring_2024)\n",
        "\n",
        "# Function to divide into groups with 4-6 students\n",
        "def divide_into_groups(students, min_size=4, max_size=6):\n",
        "    groups = []\n",
        "    remaining_students = len(students)\n",
        "    index = 0\n",
        "\n",
        "    while remaining_students > 0:\n",
        "        # Determine group size\n",
        "        group_size = min(max_size, remaining_students)\n",
        "        if remaining_students - group_size < min_size and remaining_students > max_size:\n",
        "            group_size = remaining_students // (remaining_students // min_size)\n",
        "\n",
        "        # Create the group\n",
        "        group = students[index:index + group_size]\n",
        "        groups.append(group)\n",
        "\n",
        "        # Update counters\n",
        "        index += group_size\n",
        "        remaining_students -= group_size\n",
        "\n",
        "    return groups\n",
        "\n",
        "# Divide students into groups\n",
        "groups = divide_into_groups(student_list_spring_2024)\n",
        "\n",
        "# Print the groups\n",
        "for i, group in enumerate(groups, start=1):\n",
        "    print(f\"Group {i} ({len(group)} students): {group}\")\n"
      ]
    },
    {
      "cell_type": "markdown",
      "metadata": {
        "id": "fmZ9vX20Qs3d"
      },
      "source": [
        "## Question 16\n",
        "Create a program that takes a positive integer 'n' as input and prints the count of even numbers from 1 to 'n'. Optimize the loop using the continue statement."
      ]
    },
    {
      "cell_type": "code",
      "execution_count": null,
      "metadata": {
        "id": "W8Jw6sWMQs3d",
        "colab": {
          "base_uri": "https://localhost:8080/"
        },
        "outputId": "47fa2795-73eb-47a4-c703-ec2ffd5c6872"
      },
      "outputs": [
        {
          "output_type": "stream",
          "name": "stdout",
          "text": [
            "Enter a positive integer: 10\n",
            "Count of even numbers from 1 to 10: 5\n"
          ]
        }
      ],
      "source": [
        "#user input\n",
        "n = int(input(\"Enter a positive integer: \"))\n",
        "\n",
        "#counter\n",
        "even_count = 0\n",
        "\n",
        "# Loop from 1 to n\n",
        "for i in range(1, n + 1):\n",
        "    if i % 2 != 0:\n",
        "       # Skip odd numbers\n",
        "        continue\n",
        "    even_count += 1\n",
        "\n",
        "# Print the result\n",
        "print(f\"Count of even numbers from 1 to {n}:\", even_count)\n"
      ]
    },
    {
      "cell_type": "markdown",
      "metadata": {
        "id": "hvq4APMhQs3d"
      },
      "source": [
        "## Question 17\n",
        "Develop a Python function called 'count_vowels' that takes a string as input and returns the count of vowels (both lowercase and uppercase) present in the string, ignoring spaces and non-alphabetic characters."
      ]
    },
    {
      "cell_type": "code",
      "execution_count": null,
      "metadata": {
        "id": "ZnoxhSglQs3d",
        "colab": {
          "base_uri": "https://localhost:8080/"
        },
        "outputId": "e1e38aec-d01c-4405-b75c-070d1b5eeb81"
      },
      "outputs": [
        {
          "output_type": "stream",
          "name": "stdout",
          "text": [
            "Enter the string: qertyuioplkjhgfdsazxcvbnm\n",
            "Number of vowels in the string: 5\n"
          ]
        }
      ],
      "source": [
        "# function\n",
        "def count_vowels(text):\n",
        "    \"\"\"\n",
        "    Counts the number of vowels in a string, ignoring spaces and non-alphabetic characters.\n",
        "\n",
        "    Parameters:\n",
        "    text (str): Input string\n",
        "\n",
        "    Returns:\n",
        "    int: Number of vowels\n",
        "    \"\"\"\n",
        "    vowels = \"aeiouAEIOU\"\n",
        "    count = 0\n",
        "\n",
        "    for char in text:\n",
        "        if char.isalpha() and char in vowels:\n",
        "            count += 1\n",
        "\n",
        "    return count\n",
        "\n",
        "# Example usage:\n",
        "input_text = input(\"Enter the string: \")\n",
        "vowel_count = count_vowels(input_text)\n",
        "print(f\"Number of vowels in the string: {vowel_count}\")\n"
      ]
    },
    {
      "cell_type": "markdown",
      "source": [
        "## Question 18\n",
        "Create a custom exception named ValueTooSmallError in Python. Write a program that takes user input for an age, and if the entered age is less than 18, raise the ValueTooSmallError with an appropriate error message."
      ],
      "metadata": {
        "id": "55FWoSJPVVM6"
      }
    },
    {
      "cell_type": "code",
      "source": [
        "# Define custom exception\n",
        "class ValueTooSmallError(Exception):\n",
        "    \"\"\"Exception raised when the input value is too small.\"\"\"\n",
        "    pass\n",
        "\n",
        "# Program to take user input for age\n",
        "try:\n",
        "    age = int(input(\"Enter your age: \"))\n",
        "\n",
        "    if age < 18:\n",
        "        raise ValueTooSmallError(\"Age must be at least 18. You entered a smaller value.\")\n",
        "\n",
        "    print(f\"Your age is {age}. You are eligible.\")\n",
        "\n",
        "except ValueTooSmallError as e:\n",
        "    print(\"Error:\", e)\n",
        "\n",
        "except ValueError:\n",
        "    print(\"Invalid input! Please enter a valid integer for age.\")\n",
        "\n",
        "\n"
      ],
      "metadata": {
        "id": "hwtr1wZmVX5A",
        "colab": {
          "base_uri": "https://localhost:8080/"
        },
        "outputId": "76724a5a-a2c2-4796-ad2d-421f5704122d"
      },
      "execution_count": null,
      "outputs": [
        {
          "output_type": "stream",
          "name": "stdout",
          "text": [
            "Enter your age: q\n",
            "Invalid input! Please enter a valid integer for age.\n"
          ]
        }
      ]
    },
    {
      "cell_type": "markdown",
      "source": [
        "## Question 19\n",
        "Develop a script that reverses a given string without using built-in reverse functions."
      ],
      "metadata": {
        "id": "Q9ecagcaVazW"
      }
    },
    {
      "cell_type": "code",
      "source": [
        "# input string from the user\n",
        "input_string = input(\"Enter a string: \")\n",
        "\n",
        "# an empty string for the reversed result\n",
        "reversed_string = \"\"\n",
        "\n",
        "# Loop through the original string from the end to the beginning\n",
        "for i in range(len(input_string) - 1, -1, -1):\n",
        "    reversed_string += input_string[i]\n",
        "\n",
        "# Print the reversed string\n",
        "print(\"Reversed string:\", reversed_string)\n",
        "\n"
      ],
      "metadata": {
        "id": "gycgckoAVZjR",
        "colab": {
          "base_uri": "https://localhost:8080/"
        },
        "outputId": "7d8b278c-4734-4c7b-da34-48e392c53ccf"
      },
      "execution_count": null,
      "outputs": [
        {
          "output_type": "stream",
          "name": "stdout",
          "text": [
            "Enter a string: triveni\n",
            "Reversed string: inevirt\n"
          ]
        }
      ]
    },
    {
      "cell_type": "markdown",
      "source": [
        "## Question 20\n",
        "Implement a Python script to generate a random password of a specified length."
      ],
      "metadata": {
        "id": "ZFG6RibifMLu"
      }
    },
    {
      "cell_type": "code",
      "source": [
        "import random\n",
        "import string\n",
        "\n",
        "# Function to generate a random password\n",
        "def generate_password(length):\n",
        "    if length < 4:\n",
        "        return \"Password length should be at least 4 characters.\"\n",
        "\n",
        "    # Define character pools\n",
        "    lower = string.ascii_lowercase\n",
        "    upper = string.ascii_uppercase\n",
        "    digits = string.digits\n",
        "    special = string.punctuation\n",
        "    # Ensure password has at least one character from each pool\n",
        "    password = [\n",
        "        random.choice(lower),\n",
        "        random.choice(upper),\n",
        "        random.choice(digits),\n",
        "        random.choice(special)\n",
        "    ]\n",
        "\n",
        "    # Fill the remaining length with random choices from all characters\n",
        "    all_chars = lower + upper + digits + special\n",
        "    password += random.choices(all_chars, k=length - 4)\n",
        "\n",
        "    # Shuffle the password list to mix characters\n",
        "    random.shuffle(password)\n",
        "\n",
        "    # Convert list to string\n",
        "    return ''.join(password)\n",
        "\n",
        "# Get user input for password length\n",
        "try:\n",
        "    length = int(input(\"Enter the desired password length: \"))\n",
        "    print(\"Generated password:\", generate_password(length))\n",
        "except ValueError:\n",
        "    print(\"Invalid input! Please enter a valid integer for the password length.\")"
      ],
      "metadata": {
        "id": "BFVrkEi9fNiD",
        "colab": {
          "base_uri": "https://localhost:8080/"
        },
        "outputId": "e28b1abc-6898-40b9-bf20-9bd6305a7f8c"
      },
      "execution_count": null,
      "outputs": [
        {
          "output_type": "stream",
          "name": "stdout",
          "text": [
            "Enter the desired password length: 10\n",
            "Generated password: ^/d3Zh(tR\\\n"
          ]
        }
      ]
    },
    {
      "cell_type": "markdown",
      "source": [
        "# Try these questions"
      ],
      "metadata": {
        "id": "6SmvS7nSfbj8"
      }
    },
    {
      "cell_type": "markdown",
      "source": [
        "(21) Define a base class called 'Vehicle' with attributes make and model. Create a derived class Car that inherits from Vehicle and has an additional attribute 'num_doors'. Demonstrate an example of creating an instance of the 'Car' class and accessing its attributes."
      ],
      "metadata": {
        "id": "cboAr5pEWUf5"
      }
    },
    {
      "cell_type": "code",
      "source": [
        "# Base class\n",
        "class Vehicle:\n",
        "    def __init__(self, make, model):\n",
        "        self.make = make\n",
        "        self.model = model\n",
        "\n",
        "# Derived class\n",
        "class Car(Vehicle):\n",
        "    def __init__(self, make, model, num_doors):\n",
        "        super().__init__(make, model)\n",
        "        self.num_doors = num_doors\n",
        "\n",
        "# Create an instance of Car\n",
        "my_car = Car(\"Hyundai\", \"Tuscan\", 4)\n",
        "\n",
        "# Access attributes\n",
        "print(\"Make:\", my_car.make)\n",
        "print(\"Model:\", my_car.model)\n",
        "print(\"Number of doors:\", my_car.num_doors)\n"
      ],
      "metadata": {
        "id": "phs9gciMWWAW",
        "colab": {
          "base_uri": "https://localhost:8080/"
        },
        "outputId": "ed498fa2-3cfa-4717-a31d-4b07c1db6f3f"
      },
      "execution_count": null,
      "outputs": [
        {
          "output_type": "stream",
          "name": "stdout",
          "text": [
            "Make: Hyundai\n",
            "Model: Tuscan\n",
            "Number of doors: 4\n"
          ]
        }
      ]
    },
    {
      "cell_type": "markdown",
      "source": [
        "(22) Create a class called 'Shape' with a method calculate_area(). Implement two derived classes 'Circle' and 'Rectangle' that inherit from Shape and override the calculate_area() method. Demonstrate polymorphism by creating instances of both derived classes and calling the calculate_area() method."
      ],
      "metadata": {
        "id": "J8HHefNtePwd"
      }
    },
    {
      "cell_type": "code",
      "source": [
        "import math\n",
        "\n",
        "# Base class\n",
        "class Shape:\n",
        "    def calculate_area(self):\n",
        "        \"\"\"\n",
        "        Base method to calculate area.\n",
        "        Should be overridden by derived classes.\n",
        "        \"\"\"\n",
        "        pass\n",
        "\n",
        "# Derived class for Circle\n",
        "class Circle(Shape):\n",
        "    def __init__(self, radius):\n",
        "        self.radius = radius\n",
        "\n",
        "    def calculate_area(self):\n",
        "        return math.pi * self.radius ** 2\n",
        "\n",
        "# Derived class for Rectangle\n",
        "class Rectangle(Shape):\n",
        "    def __init__(self, length, width):\n",
        "        self.length = length\n",
        "        self.width = width\n",
        "\n",
        "    def calculate_area(self):\n",
        "        return self.length * self.width\n",
        "\n",
        "# Demonstrating polymorphism\n",
        "shapes = [\n",
        "    Circle(5),\n",
        "    Rectangle(4, 6)\n",
        "]\n",
        "\n",
        "for shape in shapes:\n",
        "    print(f\"Area of {shape.__class__.__name__}: {shape.calculate_area()}\")\n"
      ],
      "metadata": {
        "id": "btnMmUZDeRhS",
        "colab": {
          "base_uri": "https://localhost:8080/"
        },
        "outputId": "bad7492f-9307-4d40-9e2a-3e612f8a3f5f"
      },
      "execution_count": null,
      "outputs": [
        {
          "output_type": "stream",
          "name": "stdout",
          "text": [
            "Area of Circle: 78.53981633974483\n",
            "Area of Rectangle: 24\n"
          ]
        }
      ]
    },
    {
      "cell_type": "markdown",
      "source": [
        "(23) Write a Python program that prompts the user to enter two numbers and perform a division operation. Handle exceptions for both zero division and invalid input (non-numeric input). Display appropriate error messages for each type of exception and ensure the program does not crash due to these errors."
      ],
      "metadata": {
        "id": "z0oqEAlTeMUS"
      }
    },
    {
      "cell_type": "code",
      "source": [
        "try:\n",
        "    # Prompt user for input\n",
        "    num1 = float(input(\"Enter the first number: \"))\n",
        "    num2 = float(input(\"Enter the second number: \"))\n",
        "\n",
        "    # Perform division\n",
        "    result = num1 / num2\n",
        "except ZeroDivisionError:\n",
        "    print(\"Error: Cannot divide by zero!\")\n",
        "except ValueError:\n",
        "    print(\"Error: Invalid input! Please enter numeric values.\")\n",
        "else:\n",
        "    print(f\"The result of {num1} divided by {num2} is {result}\")\n"
      ],
      "metadata": {
        "id": "yjdc1zM1eMAs",
        "colab": {
          "base_uri": "https://localhost:8080/"
        },
        "outputId": "41f09c9c-9453-404d-a0b6-542d31962f41"
      },
      "execution_count": null,
      "outputs": [
        {
          "output_type": "stream",
          "name": "stdout",
          "text": [
            "Enter the first number: 2\n",
            "Enter the second number: 0\n",
            "Error: Cannot divide by zero!\n"
          ]
        }
      ]
    },
    {
      "cell_type": "markdown",
      "source": [
        "# Mandatory Question"
      ],
      "metadata": {
        "id": "sZOhks1dXWEe"
      }
    },
    {
      "cell_type": "markdown",
      "source": [
        "**Important:**\n",
        "Reflecting on the first three lectures and the exercises you've completed, please provide feedback on your learning experience. Share your thoughts on whether the material covered was clear, the exercises were helpful, and if you feel more confident in applying Python programming concepts. Additionally, mention any specific areas where you would like more clarification or topics you would like to explore further in future lectures. Your feedback is valuable in shaping the course for an effective learning journey."
      ],
      "metadata": {
        "id": "eqmHVEwaWhbV"
      }
    },
    {
      "cell_type": "code",
      "source": [
        "'''\n",
        "It is a great experience for me. Class is very interactive and all the materials , links are very much helpful. I am fine with my knowledge.\n",
        "'''"
      ],
      "metadata": {
        "id": "akAVJn9YBTQT",
        "colab": {
          "base_uri": "https://localhost:8080/",
          "height": 36
        },
        "outputId": "966dcac2-dbab-49fa-9dff-cfb761598832"
      },
      "execution_count": 13,
      "outputs": [
        {
          "output_type": "execute_result",
          "data": {
            "text/plain": [
              "'\\nIt is a great experience for me. Class is very interactive and all the materials , links are very much helpful. I am fine with my knowledge.\\n'"
            ],
            "application/vnd.google.colaboratory.intrinsic+json": {
              "type": "string"
            }
          },
          "metadata": {},
          "execution_count": 13
        }
      ]
    },
    {
      "cell_type": "code",
      "source": [],
      "metadata": {
        "id": "iG3uba--Yopk"
      },
      "execution_count": null,
      "outputs": []
    }
  ],
  "metadata": {
    "colab": {
      "provenance": [],
      "include_colab_link": true
    },
    "kernelspec": {
      "display_name": "Python 3 (ipykernel)",
      "language": "python",
      "name": "python3"
    },
    "language_info": {
      "codemirror_mode": {
        "name": "ipython",
        "version": 3
      },
      "file_extension": ".py",
      "mimetype": "text/x-python",
      "name": "python",
      "nbconvert_exporter": "python",
      "pygments_lexer": "ipython3",
      "version": "3.9.12"
    }
  },
  "nbformat": 4,
  "nbformat_minor": 0
}